{
 "cells": [
  {
   "cell_type": "code",
   "execution_count": 14,
   "metadata": {},
   "outputs": [
    {
     "name": "stdin",
     "output_type": "stream",
     "text": [
      "Bes deger girilecek. Su ana kadar 0 deger girdiniz... 12\n",
      "Bes deger girilecek. Su ana kadar 1 deger girdiniz... 5\n",
      "Bes deger girilecek. Su ana kadar 2 deger girdiniz... 87\n",
      "Bes deger girilecek. Su ana kadar 3 deger girdiniz... 98\n",
      "Bes deger girilecek. Su ana kadar 4 deger girdiniz... 54\n"
     ]
    }
   ],
   "source": [
    "myList = list()\n",
    "for i in range(5):\n",
    "    myList.append(input(f'Bes deger girilecek. Su ana kadar {i} deger girdiniz...'))\n",
    "#    print(myList)\n",
    "  \n",
    "        \n",
    "        "
   ]
  },
  {
   "cell_type": "code",
   "execution_count": 15,
   "metadata": {},
   "outputs": [
    {
     "name": "stdout",
     "output_type": "stream",
     "text": [
      "12\n",
      "5\n",
      "87\n",
      "98\n",
      "54\n"
     ]
    }
   ],
   "source": [
    "for deger in myList:\n",
    "    print(deger)"
   ]
  },
  {
   "cell_type": "code",
   "execution_count": 16,
   "metadata": {},
   "outputs": [
    {
     "name": "stdout",
     "output_type": "stream",
     "text": [
      "12 girdisinin turu <class 'str'>'dir\n",
      "5 girdisinin turu <class 'str'>'dir\n",
      "87 girdisinin turu <class 'str'>'dir\n",
      "98 girdisinin turu <class 'str'>'dir\n",
      "54 girdisinin turu <class 'str'>'dir\n"
     ]
    }
   ],
   "source": [
    "for deger in myList:\n",
    "    print(f\"{deger} girdisinin turu {type(deger)}'dir\")"
   ]
  }
 ],
 "metadata": {
  "kernelspec": {
   "display_name": "Python 3",
   "language": "python",
   "name": "python3"
  },
  "language_info": {
   "codemirror_mode": {
    "name": "ipython",
    "version": 3
   },
   "file_extension": ".py",
   "mimetype": "text/x-python",
   "name": "python",
   "nbconvert_exporter": "python",
   "pygments_lexer": "ipython3",
   "version": "3.9.1"
  }
 },
 "nbformat": 4,
 "nbformat_minor": 4
}
