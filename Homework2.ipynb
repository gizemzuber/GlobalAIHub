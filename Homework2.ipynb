{
 "cells": [
  {
   "cell_type": "code",
   "execution_count": 7,
   "metadata": {},
   "outputs": [],
   "source": [
    "def message():\n",
    "    fn = input('Adinizi giriniz...')\n",
    "    ln = input('Soyadinizi giriniz...')\n",
    "    age = int(input('Yasinizi giriniz...'))\n",
    "    yob = input('Dogum yilinizi giriniz...')\n",
    "    \n",
    "    kullanici_bilgisi = [fn, ln, age, yob]\n",
    "    print(f\"Ad:    {fn}\")\n",
    "    print(f\"Soyad:    {ln}\")\n",
    "    print(f\"Yas:    {age}\")\n",
    "    print(f\"Dogum Yili:    {yob}\")\n",
    "        \n",
    "    if age < 18:\n",
    "        print(\"You can't go out because it's too dangerous\")\n",
    "    else:\n",
    "        print(\"You can go out to the street\")\n",
    "        "
   ]
  },
  {
   "cell_type": "code",
   "execution_count": 5,
   "metadata": {},
   "outputs": [
    {
     "name": "stdin",
     "output_type": "stream",
     "text": [
      "Adinizi giriniz... Tanil\n",
      "Soyadinizi giriniz... Calisan\n",
      "Yasinizi giriniz... 27\n",
      "Dogum yilinizi giriniz... 1994\n"
     ]
    },
    {
     "name": "stdout",
     "output_type": "stream",
     "text": [
      "Ad:    Tanil\n",
      "Soyad:    Calisan\n",
      "Yas:    27\n",
      "Dogum Yili:    1994\n",
      "You can go out to the street\n"
     ]
    }
   ],
   "source": [
    "message()"
   ]
  },
  {
   "cell_type": "code",
   "execution_count": 6,
   "metadata": {},
   "outputs": [
    {
     "name": "stdin",
     "output_type": "stream",
     "text": [
      "Adinizi giriniz... Lara\n",
      "Soyadinizi giriniz... Ergenc\n",
      "Yasinizi giriniz... 5\n",
      "Dogum yilinizi giriniz... 2015\n"
     ]
    },
    {
     "name": "stdout",
     "output_type": "stream",
     "text": [
      "Ad:    Lara\n",
      "Soyad:    Ergenc\n",
      "Yas:    5\n",
      "Dogum Yili:    2015\n",
      "You can't go out because it's too dangerous\n"
     ]
    }
   ],
   "source": [
    "message()"
   ]
  }
 ],
 "metadata": {
  "kernelspec": {
   "display_name": "Python 3",
   "language": "python",
   "name": "python3"
  },
  "language_info": {
   "codemirror_mode": {
    "name": "ipython",
    "version": 3
   },
   "file_extension": ".py",
   "mimetype": "text/x-python",
   "name": "python",
   "nbconvert_exporter": "python",
   "pygments_lexer": "ipython3",
   "version": "3.9.1"
  }
 },
 "nbformat": 4,
 "nbformat_minor": 4
}
